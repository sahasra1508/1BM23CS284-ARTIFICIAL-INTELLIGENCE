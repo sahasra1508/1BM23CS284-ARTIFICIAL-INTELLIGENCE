{
 "cells": [
  {
   "cell_type": "code",
   "execution_count": 4,
   "id": "6e924412-db88-4148-9f69-2e77d645a413",
   "metadata": {},
   "outputs": [
    {
     "name": "stdout",
     "output_type": "stream",
     "text": [
      "Initial state: [3, 1, 2, 0], Attacking pairs: 2\n",
      "\n",
      "Step 1: Current state: [3, 1, 2, 0], Attacking pairs: 2\n",
      "Neighbors and their costs:\n",
      "Neighbor: [1, 3, 2, 0], Attacking pairs: 1\n",
      "Neighbor: [2, 1, 3, 0], Attacking pairs: 1\n",
      "Neighbor: [0, 1, 2, 3], Attacking pairs: 6\n",
      "Neighbor: [3, 2, 1, 0], Attacking pairs: 6\n",
      "Neighbor: [3, 0, 2, 1], Attacking pairs: 1\n",
      "Neighbor: [3, 1, 0, 2], Attacking pairs: 1\n",
      "Step 1: Chosen state: [1, 3, 2, 0], Attacking pairs: 1\n",
      "\n",
      "Step 2: Current state: [1, 3, 2, 0], Attacking pairs: 1\n",
      "Neighbors and their costs:\n",
      "Neighbor: [3, 1, 2, 0], Attacking pairs: 2\n",
      "Neighbor: [2, 3, 1, 0], Attacking pairs: 2\n",
      "Neighbor: [0, 3, 2, 1], Attacking pairs: 4\n",
      "Neighbor: [1, 2, 3, 0], Attacking pairs: 4\n",
      "Neighbor: [1, 0, 2, 3], Attacking pairs: 2\n",
      "Neighbor: [1, 3, 0, 2], Attacking pairs: 0\n",
      "Step 2: Chosen state: [1, 3, 0, 2], Attacking pairs: 0\n",
      "\n",
      "🎯 Final solution (board configuration): [1, 3, 0, 2], Attacking pairs: 0\n"
     ]
    }
   ],
   "source": [
    "# Cost function: counts number of pairs of attacking queens\n",
    "def calculate_cost(state):\n",
    "    cost = 0\n",
    "    n = len(state)\n",
    "    for i in range(n):\n",
    "        for j in range(i + 1, n):\n",
    "            if state[i] == state[j] or abs(state[i] - state[j]) == abs(i - j):\n",
    "                cost += 1\n",
    "    return cost\n",
    "\n",
    "# Custom initial state: as per observation book\n",
    "def generate_custom_state():\n",
    "    return [3, 1, 2, 0]\n",
    "\n",
    "# Hill-climbing algorithm\n",
    "def hill_climbing(n):\n",
    "    current = generate_custom_state()\n",
    "    current_cost = calculate_cost(current)\n",
    "    print(f\"Initial state: {current}, Attacking pairs: {current_cost}\")\n",
    "\n",
    "    step = 1\n",
    "    while True:\n",
    "        neighbors = []\n",
    "        for i in range(n):\n",
    "            for j in range(i + 1, n):\n",
    "                neighbor = current[:]\n",
    "                neighbor[i], neighbor[j] = neighbor[j], neighbor[i]\n",
    "                neighbors.append(neighbor)\n",
    "\n",
    "        print(f\"\\nStep {step}: Current state: {current}, Attacking pairs: {current_cost}\")\n",
    "        print(\"Neighbors and their costs:\")\n",
    "\n",
    "        for neighbor in neighbors:\n",
    "            print(f\"Neighbor: {neighbor}, Attacking pairs: {calculate_cost(neighbor)}\")\n",
    "\n",
    "        # Find neighbor with minimum cost\n",
    "        best_neighbor = min(neighbors, key=calculate_cost)\n",
    "        best_neighbor_cost = calculate_cost(best_neighbor)\n",
    "\n",
    "        # If a goal is found (0 attacking pairs), stop immediately\n",
    "        if best_neighbor_cost == 0:\n",
    "            print(f\"Step {step}: Chosen state: {best_neighbor}, Attacking pairs: 0\")\n",
    "            return best_neighbor, best_neighbor_cost\n",
    "\n",
    "        # If no better neighbor, stop (local minimum)\n",
    "        if best_neighbor_cost >= current_cost:\n",
    "            return current, current_cost\n",
    "\n",
    "        print(f\"Step {step}: Chosen state: {best_neighbor}, Attacking pairs: {best_neighbor_cost}\")\n",
    "        current = best_neighbor\n",
    "        current_cost = best_neighbor_cost\n",
    "        step += 1\n",
    "\n",
    "# Run the algorithm\n",
    "n = 4\n",
    "solution, cost = hill_climbing(n)\n",
    "print(f\"\\n🎯 Final solution (board configuration): {solution}, Attacking pairs: {cost}\")\n",
    "\n"
   ]
  },
  {
   "cell_type": "code",
   "execution_count": null,
   "id": "f73ce8cc-c130-4bec-824a-151e99866e9d",
   "metadata": {},
   "outputs": [],
   "source": []
  },
  {
   "cell_type": "code",
   "execution_count": null,
   "id": "b6f65b63-cc26-4f5c-8d52-1c17a3fbd804",
   "metadata": {},
   "outputs": [],
   "source": []
  }
 ],
 "metadata": {
  "kernelspec": {
   "display_name": "Python 3 (ipykernel)",
   "language": "python",
   "name": "python3"
  },
  "language_info": {
   "codemirror_mode": {
    "name": "ipython",
    "version": 3
   },
   "file_extension": ".py",
   "mimetype": "text/x-python",
   "name": "python",
   "nbconvert_exporter": "python",
   "pygments_lexer": "ipython3",
   "version": "3.12.7"
  }
 },
 "nbformat": 4,
 "nbformat_minor": 5
}
